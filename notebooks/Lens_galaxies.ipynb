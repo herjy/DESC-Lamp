{
 "cells": [
  {
   "cell_type": "code",
   "execution_count": null,
   "metadata": {},
   "outputs": [],
   "source": [
    "from desclamp import lens_sources as ls\n",
    "# A few common packages\n",
    "import numpy as np\n",
    "import matplotlib.pyplot as plt\n",
    "\n",
    "%matplotlib inline"
   ]
  },
  {
   "cell_type": "markdown",
   "metadata": {},
   "source": [
    "# Lensed source images generation using galsim profiles\n",
    "\n",
    "In this notebook I generate images of lensed sources to then be injected in DC2/Rubin images. \n",
    "\n",
    "We begin by declaring an object to define the frame of the lensed sources. Once this is done, we can start drawing lensed sources on this frame."
   ]
  },
  {
   "cell_type": "code",
   "execution_count": null,
   "metadata": {},
   "outputs": [],
   "source": [
    "lens = ls.Lensing_frame(shape=(45,45), hr_factor=4, pix=0.2)"
   ]
  },
  {
   "cell_type": "markdown",
   "metadata": {},
   "source": [
    "Drawing a source on the previously defined source frame. and displaying it."
   ]
  },
  {
   "cell_type": "code",
   "execution_count": null,
   "metadata": {},
   "outputs": [],
   "source": [
    "source = lens.from_galsim_parametric(1.5, profile='Spergel', shift=(0.5,0.2), shear=(0.2,0.1), half_light_radius=0.6, flux=10.)\n",
    "\n",
    "plt.imshow(source._source)\n",
    "plt.show()"
   ]
  },
  {
   "cell_type": "markdown",
   "metadata": {},
   "source": [
    "We now define a set of lens and source parameters to define the lensing effect and draw the lensed version of the source. Here no PSF information is needed as Synthetic source injection handles this part."
   ]
  },
  {
   "cell_type": "code",
   "execution_count": null,
   "metadata": {},
   "outputs": [],
   "source": [
    "lens_args = [{'theta_E': 2, 'e1': 0., 'e2': 0, 'center_x': 0, 'center_y': 0}]\n",
    "\n",
    "lensed_image = lens.lens_source(['SIE'], lens_args)"
   ]
  },
  {
   "cell_type": "code",
   "execution_count": null,
   "metadata": {},
   "outputs": [],
   "source": [
    "plt.imshow(lensed_image)\n",
    "plt.show()"
   ]
  },
  {
   "cell_type": "code",
   "execution_count": null,
   "metadata": {},
   "outputs": [],
   "source": []
  }
 ],
 "metadata": {
  "kernelspec": {
   "display_name": "desc-stack-weekly",
   "language": "python",
   "name": "desc-stack-weekly"
  },
  "language_info": {
   "codemirror_mode": {
    "name": "ipython",
    "version": 3
   },
   "file_extension": ".py",
   "mimetype": "text/x-python",
   "name": "python",
   "nbconvert_exporter": "python",
   "pygments_lexer": "ipython3",
   "version": "3.8.8"
  }
 },
 "nbformat": 4,
 "nbformat_minor": 4
}
